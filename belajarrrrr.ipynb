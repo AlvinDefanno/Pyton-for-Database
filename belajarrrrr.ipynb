{
  "nbformat": 4,
  "nbformat_minor": 0,
  "metadata": {
    "colab": {
      "provenance": [],
      "collapsed_sections": [],
      "authorship_tag": "ABX9TyOh79mDCfm+97uPEO7IWvoa",
      "include_colab_link": true
    },
    "kernelspec": {
      "name": "python3",
      "display_name": "Python 3"
    },
    "language_info": {
      "name": "python"
    }
  },
  "cells": [
    {
      "cell_type": "markdown",
      "metadata": {
        "id": "view-in-github",
        "colab_type": "text"
      },
      "source": [
        "<a href=\"https://colab.research.google.com/github/AlvinDefanno/Pyton-for-Database/blob/main/belajarrrrr.ipynb\" target=\"_parent\"><img src=\"https://colab.research.google.com/assets/colab-badge.svg\" alt=\"Open In Colab\"/></a>"
      ]
    },
    {
      "cell_type": "code",
      "execution_count": null,
      "metadata": {
        "colab": {
          "base_uri": "https://localhost:8080/"
        },
        "id": "4ci85mM9Mfc7",
        "outputId": "d1a948e4-2132-45f2-ec6a-63beb7f177d4"
      },
      "outputs": [
        {
          "output_type": "execute_result",
          "data": {
            "text/plain": [
              "{'AC/DC', 'Back in Back', 'Thriller'}"
            ]
          },
          "metadata": {},
          "execution_count": 3
        }
      ],
      "source": [
        "A={\"Thriller\",\"Back in Back\",\"AC/DC\"}\n",
        "A"
      ]
    },
    {
      "cell_type": "code",
      "source": [
        "A={\"Thriller\",\"Back in Back\",\"AC/DC\"}\n",
        "A.add(\"NSYNC\")\n",
        "A"
      ],
      "metadata": {
        "colab": {
          "base_uri": "https://localhost:8080/"
        },
        "id": "GapGj6GtMr-F",
        "outputId": "b4fcf210-5306-4b7a-d653-cd884c9df771"
      },
      "execution_count": null,
      "outputs": [
        {
          "output_type": "execute_result",
          "data": {
            "text/plain": [
              "{'AC/DC', 'Back in Back', 'NSYNC', 'Thriller'}"
            ]
          },
          "metadata": {},
          "execution_count": 5
        }
      ]
    },
    {
      "cell_type": "code",
      "source": [
        " A={\"Thriller\",\"Back in Back\",\"AC/DC\"}\n",
        " \"AC/DC\" in A"
      ],
      "metadata": {
        "colab": {
          "base_uri": "https://localhost:8080/"
        },
        "id": "m_yxBwMGM9af",
        "outputId": "11531b6d-84db-4d09-94e8-79108dfcad69"
      },
      "execution_count": null,
      "outputs": [
        {
          "output_type": "execute_result",
          "data": {
            "text/plain": [
              "True"
            ]
          },
          "metadata": {},
          "execution_count": 6
        }
      ]
    },
    {
      "cell_type": "code",
      "source": [
        "album_set_1={\"AC/DC\",\"Back in Back\",\"Thiriller\"}\n",
        "album_set_2={\"AC/DC\",\"Back in Back\",\"The Dark Side of the Moon\"}\n",
        "album_set_1. union(album_set_2)"
      ],
      "metadata": {
        "colab": {
          "base_uri": "https://localhost:8080/"
        },
        "id": "x7ORcNIPNReS",
        "outputId": "d2ca95bf-90c7-4e40-a574-2c386956be92"
      },
      "execution_count": null,
      "outputs": [
        {
          "output_type": "execute_result",
          "data": {
            "text/plain": [
              "{'AC/DC', 'Back in Back', 'The Dark Side of the Moon', 'Thiriller'}"
            ]
          },
          "metadata": {},
          "execution_count": 13
        }
      ]
    },
    {
      "cell_type": "code",
      "source": [
        "album_set_1={\"AC/DC\",\"Back in Back\",\"Thiriller\"}\n",
        "album_set_3={\"AC/DC\",\"Back in Back\"}\n",
        "album_set_3.issubset(album_set_1)"
      ],
      "metadata": {
        "colab": {
          "base_uri": "https://localhost:8080/"
        },
        "id": "ZZZ4xGlpNqF8",
        "outputId": "c098c4c6-cb97-4f90-82be-d9619e34f56e"
      },
      "execution_count": null,
      "outputs": [
        {
          "output_type": "execute_result",
          "data": {
            "text/plain": [
              "True"
            ]
          },
          "metadata": {},
          "execution_count": 17
        }
      ]
    },
    {
      "cell_type": "code",
      "source": [],
      "metadata": {
        "id": "dr8cSLjsOnF1"
      },
      "execution_count": null,
      "outputs": []
    }
  ]
}